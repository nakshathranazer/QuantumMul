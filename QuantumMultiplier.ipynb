{
  "nbformat": 4,
  "nbformat_minor": 0,
  "metadata": {
    "colab": {
      "provenance": [],
      "authorship_tag": "ABX9TyPrkCFZqYAT+08rVv16fFUJ",
      "include_colab_link": true
    },
    "kernelspec": {
      "name": "python3",
      "display_name": "Python 3"
    },
    "language_info": {
      "name": "python"
    }
  },
  "cells": [
    {
      "cell_type": "markdown",
      "metadata": {
        "id": "view-in-github",
        "colab_type": "text"
      },
      "source": [
        "<a href=\"https://colab.research.google.com/github/nakshathranazer/QuantumMul/blob/main/QuantumMultiplier.ipynb\" target=\"_parent\"><img src=\"https://colab.research.google.com/assets/colab-badge.svg\" alt=\"Open In Colab\"/></a>"
      ]
    },
    {
      "cell_type": "code",
      "execution_count": 46,
      "metadata": {
        "colab": {
          "base_uri": "https://localhost:8080/"
        },
        "id": "Xs8PfnkLBTCH",
        "outputId": "799371cd-ded6-4f7d-e2f3-67f7af41e9f0"
      },
      "outputs": [
        {
          "output_type": "stream",
          "name": "stdout",
          "text": [
            "Looking in indexes: https://pypi.org/simple, https://us-python.pkg.dev/colab-wheels/public/simple/\n",
            "Requirement already satisfied: qiskit in /usr/local/lib/python3.7/dist-packages (0.38.0)\n",
            "Requirement already satisfied: qiskit-ibmq-provider==0.19.2 in /usr/local/lib/python3.7/dist-packages (from qiskit) (0.19.2)\n",
            "Requirement already satisfied: qiskit-terra==0.21.2 in /usr/local/lib/python3.7/dist-packages (from qiskit) (0.21.2)\n",
            "Requirement already satisfied: qiskit-aer==0.11.0 in /usr/local/lib/python3.7/dist-packages (from qiskit) (0.11.0)\n",
            "Requirement already satisfied: numpy>=1.16.3 in /usr/local/lib/python3.7/dist-packages (from qiskit-aer==0.11.0->qiskit) (1.21.6)\n",
            "Requirement already satisfied: scipy>=1.0 in /usr/local/lib/python3.7/dist-packages (from qiskit-aer==0.11.0->qiskit) (1.7.3)\n",
            "Requirement already satisfied: requests>=2.19 in /usr/local/lib/python3.7/dist-packages (from qiskit-ibmq-provider==0.19.2->qiskit) (2.23.0)\n",
            "Requirement already satisfied: websocket-client>=1.0.1 in /usr/local/lib/python3.7/dist-packages (from qiskit-ibmq-provider==0.19.2->qiskit) (1.4.1)\n",
            "Requirement already satisfied: requests-ntlm>=1.1.0 in /usr/local/lib/python3.7/dist-packages (from qiskit-ibmq-provider==0.19.2->qiskit) (1.1.0)\n",
            "Requirement already satisfied: urllib3>=1.21.1 in /usr/local/lib/python3.7/dist-packages (from qiskit-ibmq-provider==0.19.2->qiskit) (1.24.3)\n",
            "Requirement already satisfied: websockets>=10.0 in /usr/local/lib/python3.7/dist-packages (from qiskit-ibmq-provider==0.19.2->qiskit) (10.3)\n",
            "Requirement already satisfied: python-dateutil>=2.8.0 in /usr/local/lib/python3.7/dist-packages (from qiskit-ibmq-provider==0.19.2->qiskit) (2.8.2)\n",
            "Requirement already satisfied: psutil>=5 in /usr/local/lib/python3.7/dist-packages (from qiskit-terra==0.21.2->qiskit) (5.4.8)\n",
            "Requirement already satisfied: ply>=3.10 in /usr/local/lib/python3.7/dist-packages (from qiskit-terra==0.21.2->qiskit) (3.11)\n",
            "Requirement already satisfied: tweedledum<2.0,>=1.1 in /usr/local/lib/python3.7/dist-packages (from qiskit-terra==0.21.2->qiskit) (1.1.1)\n",
            "Requirement already satisfied: dill>=0.3 in /usr/local/lib/python3.7/dist-packages (from qiskit-terra==0.21.2->qiskit) (0.3.5.1)\n",
            "Requirement already satisfied: stevedore>=3.0.0 in /usr/local/lib/python3.7/dist-packages (from qiskit-terra==0.21.2->qiskit) (3.5.1)\n",
            "Requirement already satisfied: retworkx>=0.11.0 in /usr/local/lib/python3.7/dist-packages (from qiskit-terra==0.21.2->qiskit) (0.12.0)\n",
            "Requirement already satisfied: symengine>=0.9 in /usr/local/lib/python3.7/dist-packages (from qiskit-terra==0.21.2->qiskit) (0.9.2)\n",
            "Requirement already satisfied: sympy>=1.3 in /usr/local/lib/python3.7/dist-packages (from qiskit-terra==0.21.2->qiskit) (1.7.1)\n",
            "Requirement already satisfied: typing-extensions in /usr/local/lib/python3.7/dist-packages (from qiskit-terra==0.21.2->qiskit) (4.1.1)\n",
            "Requirement already satisfied: shared-memory38 in /usr/local/lib/python3.7/dist-packages (from qiskit-terra==0.21.2->qiskit) (0.1.2)\n",
            "Requirement already satisfied: six>=1.5 in /usr/local/lib/python3.7/dist-packages (from python-dateutil>=2.8.0->qiskit-ibmq-provider==0.19.2->qiskit) (1.15.0)\n",
            "Requirement already satisfied: certifi>=2017.4.17 in /usr/local/lib/python3.7/dist-packages (from requests>=2.19->qiskit-ibmq-provider==0.19.2->qiskit) (2022.9.24)\n",
            "Requirement already satisfied: chardet<4,>=3.0.2 in /usr/local/lib/python3.7/dist-packages (from requests>=2.19->qiskit-ibmq-provider==0.19.2->qiskit) (3.0.4)\n",
            "Requirement already satisfied: idna<3,>=2.5 in /usr/local/lib/python3.7/dist-packages (from requests>=2.19->qiskit-ibmq-provider==0.19.2->qiskit) (2.10)\n",
            "Requirement already satisfied: cryptography>=1.3 in /usr/local/lib/python3.7/dist-packages (from requests-ntlm>=1.1.0->qiskit-ibmq-provider==0.19.2->qiskit) (38.0.1)\n",
            "Requirement already satisfied: ntlm-auth>=1.0.2 in /usr/local/lib/python3.7/dist-packages (from requests-ntlm>=1.1.0->qiskit-ibmq-provider==0.19.2->qiskit) (1.5.0)\n",
            "Requirement already satisfied: cffi>=1.12 in /usr/local/lib/python3.7/dist-packages (from cryptography>=1.3->requests-ntlm>=1.1.0->qiskit-ibmq-provider==0.19.2->qiskit) (1.15.1)\n",
            "Requirement already satisfied: pycparser in /usr/local/lib/python3.7/dist-packages (from cffi>=1.12->cryptography>=1.3->requests-ntlm>=1.1.0->qiskit-ibmq-provider==0.19.2->qiskit) (2.21)\n",
            "Requirement already satisfied: rustworkx==0.12.0 in /usr/local/lib/python3.7/dist-packages (from retworkx>=0.11.0->qiskit-terra==0.21.2->qiskit) (0.12.0)\n",
            "Requirement already satisfied: importlib-metadata>=1.7.0 in /usr/local/lib/python3.7/dist-packages (from stevedore>=3.0.0->qiskit-terra==0.21.2->qiskit) (5.0.0)\n",
            "Requirement already satisfied: pbr!=2.1.0,>=2.0.0 in /usr/local/lib/python3.7/dist-packages (from stevedore>=3.0.0->qiskit-terra==0.21.2->qiskit) (5.10.0)\n",
            "Requirement already satisfied: zipp>=0.5 in /usr/local/lib/python3.7/dist-packages (from importlib-metadata>=1.7.0->stevedore>=3.0.0->qiskit-terra==0.21.2->qiskit) (3.9.0)\n",
            "Requirement already satisfied: mpmath>=0.19 in /usr/local/lib/python3.7/dist-packages (from sympy>=1.3->qiskit-terra==0.21.2->qiskit) (1.2.1)\n",
            "Looking in indexes: https://pypi.org/simple, https://us-python.pkg.dev/colab-wheels/public/simple/\n",
            "Requirement already satisfied: pylatexenc in /usr/local/lib/python3.7/dist-packages (2.10)\n"
          ]
        }
      ],
      "source": [
        "%pip install qiskit\n",
        "%pip install pylatexenc"
      ]
    },
    {
      "cell_type": "code",
      "source": [
        "from qiskit import *"
      ],
      "metadata": {
        "id": "nZodGqoPDh8h"
      },
      "execution_count": 47,
      "outputs": []
    },
    {
      "cell_type": "code",
      "source": [
        "class bcolors:\n",
        "    HEADER = '\\033[95m'\n",
        "    OKBLUE = '\\033[94m'\n",
        "    OKCYAN = '\\033[96m'\n",
        "    OKGREEN = '\\033[92m'\n",
        "    WARNING = '\\033[93m'\n",
        "    FAIL = '\\033[91m'\n",
        "    ENDC = '\\033[0m'\n",
        "    BOLD = '\\033[1m'\n",
        "    UNDERLINE = '\\033[4m'\n",
        "\n",
        "\n",
        "def executeQFT(qc, reg, n, pie):\n",
        "    # Computes the quantum Fourier transform of reg, one qubit a time\n",
        "    # Apply one Hadamard gate to the n-th qubit of the quantum register reg, and \n",
        "    # then apply repeated phase rotations with parameters being pi divided by \n",
        "    # increasing powers of two\n",
        "    \n",
        "    qc.h(reg[n])    \n",
        "    for i in range(0, n):\n",
        "        qc.cp(pie/float(2**(i+1)), reg[n-(i+1)], reg[n])    \n",
        "\n",
        "def inverseQFT(qc, reg, n, pie):\n",
        "    # Performs the inverse quantum Fourier transform on a register reg.\n",
        "    # Apply repeated phase rotations with parameters being pi divided by \n",
        "    # decreasing powers of two, and then apply a Hadamard gate to the nth qubit\n",
        "    # of the register reg.\n",
        "    \n",
        "    for i in range(n):\n",
        "        qc.cp(-1*pie/float(2**(n-i)), reg[i], reg[n])\n",
        "    qc.h(reg[n])\n",
        "    \n",
        "def initQubits(str, qc, reg, n):\n",
        "    # Flip the corresponding qubit in register if a bit in the string is a 1\n",
        "    for i in range(n):\n",
        "        if str[i] == \"1\":\n",
        "            qc.x(reg[n-(i+1)])\n",
        "def binaryTodecimal(n):\n",
        "    decimal = 0\n",
        "    power = 1\n",
        "    while n>0:\n",
        "        rem = n%10\n",
        "        n = n//10\n",
        "        decimal += rem*power\n",
        "        power = power*2\n",
        "        \n",
        "    return decimal\n",
        "def printResult(first, second, qc,result, cl, n, operator):\n",
        "\n",
        "    # Measure qubits\n",
        "    for i in range(n+1):\n",
        "        qc.measure(result[i], cl[i])\n",
        "\n",
        "    # Execute using the local simulator\n",
        "    \n",
        "    # Set chosen backend and execute job\n",
        "    num_shots = 100 #Setting the number of times to repeat measurement\n",
        "\n",
        "    job = execute(qc, backend=Aer.get_backend('qasm_simulator'), shots=num_shots)\n",
        "    # Get results of program\n",
        "    job_stats = job.result().get_counts()\n",
        "    for key, value in job_stats.items():\n",
        "        res = key\n",
        "        prob = value\n",
        "\n",
        "    \n",
        "    print(binaryTodecimal(int(res)))"
      ],
      "metadata": {
        "id": "C0asWC-wBmZk"
      },
      "execution_count": 53,
      "outputs": []
    },
    {
      "cell_type": "code",
      "source": [
        "import math\n",
        "pie = math.pi\n",
        "\n",
        "def sum(a, b, qc):\n",
        "    \n",
        "    n = len(a)-1\n",
        "    # Compute the Fourier transform of register a\n",
        "    for i in range(n+1):\n",
        "        executeQFT(qc, a, n-i, pie)\n",
        "        \n",
        "    # Add the two numbers by evolving the Fourier transform F(ψ(reg_a))>\n",
        "    # to |F(ψ(reg_a+reg_b))>\n",
        "    for i in range(n+1):\n",
        "        evolveQFTStateSum(qc, a, b, n-i, pie) \n",
        "        \n",
        "    # Compute the inverse Fourier transform of register a\n",
        "    for i in range(n+1):\n",
        "        inverseQFT(qc, a, i, pie)\n",
        "\n",
        "\n",
        "def evolveQFTStateSum(qc, reg_a, reg_b, n, pie):\n",
        "    # Evolves the state |F(ψ(reg_a))> to |F(ψ(reg_a+reg_b))> using the quantum \n",
        "    # Fourier transform conditioned on the qubits of the reg_b.\n",
        "    # Apply repeated phase rotations with parameters being pi divided by \n",
        "    # increasing powers of two.\n",
        "    l = len(reg_b)\n",
        "    for i in range(n+1):\n",
        "        if (n - i) > l - 1:\n",
        "            pass\n",
        "        else:\n",
        "            qc.cp(pie/float(2**(i)), reg_b[n-i], reg_a[n])        "
      ],
      "metadata": {
        "id": "pO_7CsbzD9r7"
      },
      "execution_count": 54,
      "outputs": []
    },
    {
      "cell_type": "code",
      "source": [
        "def multiply(a, secondDec, result, qc):\n",
        "    \n",
        "    n = len(a) -1\n",
        "    # Compute the Fourier transform of register 'result'\n",
        "    for i in range(n+1):\n",
        "        executeQFT(qc, result, n-i, pie)\n",
        "    \n",
        "    # Add the two numbers by evolving the Fourier transform F(ψ(reg_a))>\n",
        "    # to |F(ψ((second * reg_a))>, where we loop on the sum as many times as 'second' says, \n",
        "    # doing incremental sums\n",
        "    for j in range(secondDec):\n",
        "        for i in range(n+1):\n",
        "            evolveQFTStateSum(qc, result, a, n-i, pie)\n",
        "\n",
        "    # Compute the inverse Fourier transform of register a\n",
        "    for i in range(n+1):\n",
        "        inverseQFT(qc, result, i, pie)"
      ],
      "metadata": {
        "id": "TlH2DndWCCrE"
      },
      "execution_count": 55,
      "outputs": []
    },
    {
      "cell_type": "code",
      "source": [
        "def multiplier(x,y):\n",
        "    \n",
        "\n",
        "\n",
        "  # check the inputs\n",
        "  while (x < 0 or x > 2047) or (y< 0 or y > 2047):\n",
        "    if x < 0 or x > 2047:\n",
        "        print(bcolors.FAIL + \"Invalid first input number\" + bcolors.ENDC)\n",
        "        \n",
        "\n",
        "    if y < 0 or y > 2047:\n",
        "        print(bcolors.FAIL + \"Invalid second input number\" + bcolors.ENDC)\n",
        "       \n",
        "\n",
        "\n",
        "  first = '{0:{fill}3b}'.format(x, fill='0')\n",
        "  second = '{0:{fill}3b}'.format(y, fill='0')\n",
        "  # for multiplication\n",
        "  firstDec = x\n",
        "  secondDec = y\n",
        "\n",
        "\n",
        "  l1 = len(first)\n",
        "  l2 = len(second)\n",
        "\n",
        "  # Padding 'first' the same lenght of 'result'\n",
        "  # since result can have at max len(first) + len(second) bits when multiplying\n",
        "  first = (\"0\")*(l2) + first\n",
        "  n = l1+l2\n",
        "\n",
        "\n",
        "  # create the register based on the operation choosen\n",
        "  a = QuantumRegister(n+1, \"a\") \n",
        "  b = QuantumRegister(n+1, \"b\")\n",
        "  accumulator = QuantumRegister(n+1, \"accumulator\")     \n",
        "  cl = ClassicalRegister(n+1, \"cl\")\n",
        "\n",
        "\n",
        "  \n",
        "  qc = QuantumCircuit(a, b, cl, name=\"qc\")\n",
        "  # Flip the corresponding qubit in register a if a bit in the string first is a 1\n",
        "  initQubits(first, qc, a, n)\n",
        "\n",
        "  multiply(a,secondDec,b,qc)\n",
        "  operator = '*'\n",
        "  printResult(first, second, qc, b, cl, n, operator)\n",
        "  \n"
      ],
      "metadata": {
        "id": "nv7A3PDzCEK8"
      },
      "execution_count": 56,
      "outputs": []
    },
    {
      "cell_type": "code",
      "source": [
        "multiplier(6,5)"
      ],
      "metadata": {
        "colab": {
          "base_uri": "https://localhost:8080/"
        },
        "id": "SFVptB5JHCXL",
        "outputId": "75e13c11-51ae-4f09-f2b5-f40a63741fe1"
      },
      "execution_count": 61,
      "outputs": [
        {
          "output_type": "stream",
          "name": "stdout",
          "text": [
            "30\n"
          ]
        }
      ]
    }
  ]
}